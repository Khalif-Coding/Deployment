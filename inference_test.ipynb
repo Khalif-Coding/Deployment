{
 "cells": [
  {
   "cell_type": "code",
   "execution_count": 1,
   "id": "8c2f8eae",
   "metadata": {},
   "outputs": [],
   "source": [
    "# Importing libraries\n",
    "import pandas as pd\n",
    "import numpy as np\n",
    "from datetime import datetime\n",
    "# from equinox_bandit import EQuinoxBandit\n",
    "from equinox_inference import load_bandit, EQuinoxPredictor\n",
    "# from sklearn.linear_model import LogisticRegression\n",
    "# from sklearn.preprocessing import StandardScaler\n",
    "# from sklearn.impute import SimpleImputer\n",
    "# from collections import defaultdict\n",
    "# import pickle\n",
    "# import json\n",
    "# from pathlib import Path\n",
    "\n",
    "# Configuration\n",
    "RANDOM_SEED = 69\n",
    "np.random.seed(RANDOM_SEED)"
   ]
  },
  {
   "cell_type": "code",
   "execution_count": 2,
   "id": "ffed7a3e",
   "metadata": {},
   "outputs": [],
   "source": [
    "# Usage in inference notebook\n",
    "equinox_bandit = load_bandit(\"equinox_model_v1.1\")"
   ]
  },
  {
   "cell_type": "code",
   "execution_count": 3,
   "id": "c6f1fdf1",
   "metadata": {},
   "outputs": [],
   "source": [
    "# Complete inference example\n",
    "user_feats = {\n",
    "    'total_views': 15,                  # From user_features\n",
    "    'events_per_day': 2.1,              # From user_features\n",
    "    'conversion_rate': 0.02,            # From user_features\n",
    "    'avg_price_viewed': 250000,         # From user_features\n",
    "    'max_price_viewed': 300000,         # From user_features\n",
    "    'unique_categories': 3,             # From user_features\n",
    "    'user_tenure_days': 7,              # From user_features\n",
    "    'has_converted': 0,                 # From user_features\n",
    "    'avg_availability': 0.95            # New from availability feature\n",
    "}\n",
    "\n",
    "session_context = {\n",
    "    'hour': 14,                         # From processed_events\n",
    "    'is_weekend': False,                # From processed_events\n",
    "    'item_price': 275000,               # From processed_events\n",
    "    'item_category': 805                # From processed_events\n",
    "}"
   ]
  },
  {
   "cell_type": "code",
   "execution_count": null,
   "id": "8e534ece",
   "metadata": {},
   "outputs": [
    {
     "name": "stdout",
     "output_type": "stream",
     "text": [
      "{\n",
      "  \"recommendation\": \"email_no_discount\",\n",
      "  \"predicted_conversion_lift\": \"97.8%\",\n",
      "  \"action_breakdown\": {\n",
      "    \"email_no_discount\": 0.9981855541751852,\n",
      "    \"email_10%_discount\": 0.09986869256577363,\n",
      "    \"banner_limited_time_offer\": 0.2144195604318506,\n",
      "    \"popup_abandoned_cart_reminder\": 0.08174693607341328\n",
      "  }\n",
      "}\n"
     ]
    }
   ],
   "source": [
    "# Run inference\n",
    "\n",
    "# Initialize predictor\n",
    "predictor = EQuinoxPredictor(equinox_bandit)\n",
    "\n",
    "# Make predictions\n",
    "result = predictor.predict(user_feats, session_context)\n",
    "print(predictor.predict_formatted(user_feats, session_context))"
   ]
  }
 ],
 "metadata": {
  "kernelspec": {
   "display_name": "base",
   "language": "python",
   "name": "python3"
  },
  "language_info": {
   "codemirror_mode": {
    "name": "ipython",
    "version": 3
   },
   "file_extension": ".py",
   "mimetype": "text/x-python",
   "name": "python",
   "nbconvert_exporter": "python",
   "pygments_lexer": "ipython3",
   "version": "3.12.7"
  }
 },
 "nbformat": 4,
 "nbformat_minor": 5
}
